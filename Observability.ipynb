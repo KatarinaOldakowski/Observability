{
 "cells": [
  {
   "cell_type": "code",
   "execution_count": 78,
   "id": "8a17fb88",
   "metadata": {},
   "outputs": [
    {
     "name": "stdout",
     "output_type": "stream",
     "text": [
      "3.10.11 | packaged by Anaconda, Inc. | (main, Apr 20 2023, 18:56:50) [MSC v.1916 64 bit (AMD64)]\n"
     ]
    }
   ],
   "source": [
    "import sys\n",
    "print(sys.version)\n",
    "import pandas as pd\n",
    "import numpy as np\n",
    "\n",
    "import warnings \n",
    "warnings.filterwarnings(\"ignore\")\n",
    "\n",
    "import matplotlib.pyplot as plt\n",
    "import seaborn as sns\n",
    "\n",
    "%matplotlib inline"
   ]
  },
  {
   "cell_type": "code",
   "execution_count": 79,
   "id": "ff9ed6d8",
   "metadata": {},
   "outputs": [
    {
     "name": "stdout",
     "output_type": "stream",
     "text": [
      "Requirement already satisfied: openpyxl in c:\\programdata\\anaconda3\\lib\\site-packages (3.1.2)\n",
      "Requirement already satisfied: et-xmlfile in c:\\programdata\\anaconda3\\lib\\site-packages (from openpyxl) (1.1.0)\n"
     ]
    }
   ],
   "source": [
    "!pip install openpyxl"
   ]
  },
  {
   "cell_type": "code",
   "execution_count": 80,
   "id": "b8810d4d",
   "metadata": {},
   "outputs": [
    {
     "data": {
      "text/html": [
       "<div>\n",
       "<style scoped>\n",
       "    .dataframe tbody tr th:only-of-type {\n",
       "        vertical-align: middle;\n",
       "    }\n",
       "\n",
       "    .dataframe tbody tr th {\n",
       "        vertical-align: top;\n",
       "    }\n",
       "\n",
       "    .dataframe thead th {\n",
       "        text-align: right;\n",
       "    }\n",
       "</style>\n",
       "<table border=\"1\" class=\"dataframe\">\n",
       "  <thead>\n",
       "    <tr style=\"text-align: right;\">\n",
       "      <th></th>\n",
       "      <th>day</th>\n",
       "      <th>proposition</th>\n",
       "      <th>viewerID</th>\n",
       "      <th>asset</th>\n",
       "      <th>deviceOS</th>\n",
       "      <th>country</th>\n",
       "      <th>state</th>\n",
       "      <th>city</th>\n",
       "      <th>asn</th>\n",
       "      <th>isp</th>\n",
       "      <th>...</th>\n",
       "      <th>session_out_of_home</th>\n",
       "      <th>session_channel_id</th>\n",
       "      <th>session_content_type</th>\n",
       "      <th>session_episode</th>\n",
       "      <th>session_goal_id</th>\n",
       "      <th>session_viewer_id</th>\n",
       "      <th>session_pt_os</th>\n",
       "      <th>session_pt_os_ver</th>\n",
       "      <th>session_device_marketing_name</th>\n",
       "      <th>session_player_name</th>\n",
       "    </tr>\n",
       "  </thead>\n",
       "  <tbody>\n",
       "    <tr>\n",
       "      <th>0</th>\n",
       "      <td>2020-08-19</td>\n",
       "      <td>SkyDE</td>\n",
       "      <td>192283420a01f97a2c1f4c936aa4d1b2a9c5439b</td>\n",
       "      <td>Live-129-Sky Sport 1 HD</td>\n",
       "      <td>iOS</td>\n",
       "      <td>austria</td>\n",
       "      <td>niederoesterreich</td>\n",
       "      <td>maria enzersdorf</td>\n",
       "      <td>8339</td>\n",
       "      <td>ASN: KABSI-AS, AT</td>\n",
       "      <td>...</td>\n",
       "      <td>1.0</td>\n",
       "      <td>NaN</td>\n",
       "      <td>unknown</td>\n",
       "      <td>NaN</td>\n",
       "      <td>NaN</td>\n",
       "      <td>NaN</td>\n",
       "      <td>iOS</td>\n",
       "      <td>iOS 13.6</td>\n",
       "      <td>Apple iPhone 8</td>\n",
       "      <td>skygo-de-ios</td>\n",
       "    </tr>\n",
       "    <tr>\n",
       "      <th>1</th>\n",
       "      <td>2020-08-19</td>\n",
       "      <td>SkyDE</td>\n",
       "      <td>1396c74a853f8651bf418c55296b3c715deeb0a1</td>\n",
       "      <td>Live-129-Sky Sport 1 HD</td>\n",
       "      <td>OS X</td>\n",
       "      <td>germany</td>\n",
       "      <td>hamburg</td>\n",
       "      <td>hamburg</td>\n",
       "      <td>3209</td>\n",
       "      <td>Vodafone</td>\n",
       "      <td>...</td>\n",
       "      <td>1.0</td>\n",
       "      <td>NaN</td>\n",
       "      <td>NaN</td>\n",
       "      <td>NaN</td>\n",
       "      <td>NaN</td>\n",
       "      <td>NaN</td>\n",
       "      <td>macOS</td>\n",
       "      <td>OS X 10.15.6</td>\n",
       "      <td>Apple MacBookAir7,2</td>\n",
       "      <td>skygo-de-desktop</td>\n",
       "    </tr>\n",
       "    <tr>\n",
       "      <th>2</th>\n",
       "      <td>2020-08-19</td>\n",
       "      <td>SkyDE</td>\n",
       "      <td>015f3b9bb5dca429f106796d61b2aa0dd86e8dcd</td>\n",
       "      <td>Live-129-Sky Sport 1 HD</td>\n",
       "      <td>Tizen</td>\n",
       "      <td>germany</td>\n",
       "      <td>hamburg</td>\n",
       "      <td>hamburg</td>\n",
       "      <td>31334</td>\n",
       "      <td>Kable Deutschland</td>\n",
       "      <td>...</td>\n",
       "      <td>NaN</td>\n",
       "      <td>NaN</td>\n",
       "      <td>Movies</td>\n",
       "      <td>NaN</td>\n",
       "      <td>NaN</td>\n",
       "      <td>NaN</td>\n",
       "      <td>Tizen</td>\n",
       "      <td>Tizen Platform: 5.0 | API: 3.0 | Web API: 3.0</td>\n",
       "      <td>Samsung Tizen TV</td>\n",
       "      <td>skyq-de-samsungtv</td>\n",
       "    </tr>\n",
       "    <tr>\n",
       "      <th>3</th>\n",
       "      <td>2020-08-19</td>\n",
       "      <td>SkyDE</td>\n",
       "      <td>d10afbbb7a2ba45c0c9de4765d4aa1f10fbfd4e7</td>\n",
       "      <td>Live-82286d1e-1858-11e9-bf44-db93f4694cd7-Sky ...</td>\n",
       "      <td>tvOS</td>\n",
       "      <td>germany</td>\n",
       "      <td>baden-wuerttemberg</td>\n",
       "      <td>karlsruhe</td>\n",
       "      <td>8881</td>\n",
       "      <td>Versatel</td>\n",
       "      <td>...</td>\n",
       "      <td>NaN</td>\n",
       "      <td>NaN</td>\n",
       "      <td>NaN</td>\n",
       "      <td>NaN</td>\n",
       "      <td>NaN</td>\n",
       "      <td>NaN</td>\n",
       "      <td>tvOS</td>\n",
       "      <td>tvOS 13.4.8</td>\n",
       "      <td>Apple Unknown</td>\n",
       "      <td>skyticket-de-appletv</td>\n",
       "    </tr>\n",
       "    <tr>\n",
       "      <th>4</th>\n",
       "      <td>2020-08-19</td>\n",
       "      <td>SkyDE</td>\n",
       "      <td>94714557f7f8da09b815b96b1c0574d8963485a8</td>\n",
       "      <td>Live-129-Sky Sport 1 HD</td>\n",
       "      <td>iOS</td>\n",
       "      <td>germany</td>\n",
       "      <td>bremen</td>\n",
       "      <td>bremen</td>\n",
       "      <td>3320</td>\n",
       "      <td>Deutsche Telekom</td>\n",
       "      <td>...</td>\n",
       "      <td>1.0</td>\n",
       "      <td>NaN</td>\n",
       "      <td>unknown</td>\n",
       "      <td>NaN</td>\n",
       "      <td>NaN</td>\n",
       "      <td>NaN</td>\n",
       "      <td>iOS</td>\n",
       "      <td>iOS 12.4.8</td>\n",
       "      <td>Apple iPad Air</td>\n",
       "      <td>skygo-de-ios</td>\n",
       "    </tr>\n",
       "  </tbody>\n",
       "</table>\n",
       "<p>5 rows × 41 columns</p>\n",
       "</div>"
      ],
      "text/plain": [
       "         day proposition                                  viewerID  \\\n",
       "0 2020-08-19       SkyDE  192283420a01f97a2c1f4c936aa4d1b2a9c5439b   \n",
       "1 2020-08-19       SkyDE  1396c74a853f8651bf418c55296b3c715deeb0a1   \n",
       "2 2020-08-19       SkyDE  015f3b9bb5dca429f106796d61b2aa0dd86e8dcd   \n",
       "3 2020-08-19       SkyDE  d10afbbb7a2ba45c0c9de4765d4aa1f10fbfd4e7   \n",
       "4 2020-08-19       SkyDE  94714557f7f8da09b815b96b1c0574d8963485a8   \n",
       "\n",
       "                                               asset deviceOS  country  \\\n",
       "0                            Live-129-Sky Sport 1 HD      iOS  austria   \n",
       "1                            Live-129-Sky Sport 1 HD     OS X  germany   \n",
       "2                            Live-129-Sky Sport 1 HD    Tizen  germany   \n",
       "3  Live-82286d1e-1858-11e9-bf44-db93f4694cd7-Sky ...     tvOS  germany   \n",
       "4                            Live-129-Sky Sport 1 HD      iOS  germany   \n",
       "\n",
       "                state              city    asn                isp  ...  \\\n",
       "0   niederoesterreich  maria enzersdorf   8339  ASN: KABSI-AS, AT  ...   \n",
       "1             hamburg           hamburg   3209           Vodafone  ...   \n",
       "2             hamburg           hamburg  31334  Kable Deutschland  ...   \n",
       "3  baden-wuerttemberg         karlsruhe   8881           Versatel  ...   \n",
       "4              bremen            bremen   3320   Deutsche Telekom  ...   \n",
       "\n",
       "  session_out_of_home  session_channel_id  session_content_type  \\\n",
       "0                 1.0                 NaN               unknown   \n",
       "1                 1.0                 NaN                   NaN   \n",
       "2                 NaN                 NaN                Movies   \n",
       "3                 NaN                 NaN                   NaN   \n",
       "4                 1.0                 NaN               unknown   \n",
       "\n",
       "   session_episode  session_goal_id session_viewer_id session_pt_os  \\\n",
       "0              NaN              NaN               NaN           iOS   \n",
       "1              NaN              NaN               NaN         macOS   \n",
       "2              NaN              NaN               NaN         Tizen   \n",
       "3              NaN              NaN               NaN          tvOS   \n",
       "4              NaN              NaN               NaN           iOS   \n",
       "\n",
       "                               session_pt_os_ver  \\\n",
       "0                                       iOS 13.6   \n",
       "1                                   OS X 10.15.6   \n",
       "2  Tizen Platform: 5.0 | API: 3.0 | Web API: 3.0   \n",
       "3                                    tvOS 13.4.8   \n",
       "4                                     iOS 12.4.8   \n",
       "\n",
       "  session_device_marketing_name   session_player_name  \n",
       "0                Apple iPhone 8          skygo-de-ios  \n",
       "1           Apple MacBookAir7,2      skygo-de-desktop  \n",
       "2              Samsung Tizen TV     skyq-de-samsungtv  \n",
       "3                 Apple Unknown  skyticket-de-appletv  \n",
       "4                Apple iPad Air          skygo-de-ios  \n",
       "\n",
       "[5 rows x 41 columns]"
      ]
     },
     "execution_count": 80,
     "metadata": {},
     "output_type": "execute_result"
    }
   ],
   "source": [
    "df = pd.read_excel(\"Observability-TechTest-2022-feb.xlsx\")\n",
    "\n",
    "df.head(5)"
   ]
  },
  {
   "cell_type": "code",
   "execution_count": 81,
   "id": "234e76b5",
   "metadata": {},
   "outputs": [
    {
     "data": {
      "text/plain": [
       "(38733, 41)"
      ]
     },
     "execution_count": 81,
     "metadata": {},
     "output_type": "execute_result"
    }
   ],
   "source": [
    "# Dataset contains 41 columns and over 38 thousand records\n",
    "\n",
    "df.shape"
   ]
  },
  {
   "cell_type": "code",
   "execution_count": 82,
   "id": "31c7d094",
   "metadata": {},
   "outputs": [
    {
     "data": {
      "text/plain": [
       "['day',\n",
       " 'proposition',\n",
       " 'viewerID',\n",
       " 'asset',\n",
       " 'deviceOS',\n",
       " 'country',\n",
       " 'state',\n",
       " 'city',\n",
       " 'asn',\n",
       " 'isp',\n",
       " 'startTime',\n",
       " 'startupTimeMS',\n",
       " 'playingTimeMS',\n",
       " 'interrupts',\n",
       " 'startupError',\n",
       " 'cdn',\n",
       " 'browser',\n",
       " 'vpf',\n",
       " 'vpfErrorList',\n",
       " 'networkType',\n",
       " 'endTime',\n",
       " 'session_device_manufacturer',\n",
       " 'session_device_brand',\n",
       " 'session_device_conn',\n",
       " 'session_appversion',\n",
       " 'session_browser_version',\n",
       " 'session_hardware_type',\n",
       " 'session_source',\n",
       " 'session_device_model',\n",
       " 'session_is_live',\n",
       " 'session_channel_name',\n",
       " 'session_out_of_home',\n",
       " 'session_channel_id',\n",
       " 'session_content_type',\n",
       " 'session_episode',\n",
       " 'session_goal_id',\n",
       " 'session_viewer_id',\n",
       " 'session_pt_os',\n",
       " 'session_pt_os_ver',\n",
       " 'session_device_marketing_name',\n",
       " 'session_player_name']"
      ]
     },
     "execution_count": 82,
     "metadata": {},
     "output_type": "execute_result"
    }
   ],
   "source": [
    "df.columns.to_list()"
   ]
  },
  {
   "cell_type": "code",
   "execution_count": 83,
   "id": "b8a36892",
   "metadata": {},
   "outputs": [
    {
     "data": {
      "text/plain": [
       "'2020-08-19 20:20:00 UTC'"
      ]
     },
     "execution_count": 83,
     "metadata": {},
     "output_type": "execute_result"
    }
   ],
   "source": [
    "# Start time from 20:20:00 to 20:40:00\n",
    "\n",
    "df[\"startTime\"].min()\n"
   ]
  },
  {
   "cell_type": "code",
   "execution_count": 84,
   "id": "4c32b278",
   "metadata": {},
   "outputs": [
    {
     "data": {
      "text/plain": [
       "'2020-08-19 20:40:00 UTC'"
      ]
     },
     "execution_count": 84,
     "metadata": {},
     "output_type": "execute_result"
    }
   ],
   "source": [
    "df[\"startTime\"].max()"
   ]
  },
  {
   "cell_type": "code",
   "execution_count": 85,
   "id": "f50367b1",
   "metadata": {},
   "outputs": [
    {
     "data": {
      "text/plain": [
       "dtype('O')"
      ]
     },
     "execution_count": 85,
     "metadata": {},
     "output_type": "execute_result"
    }
   ],
   "source": [
    "df[\"startTime\"].dtype"
   ]
  },
  {
   "cell_type": "code",
   "execution_count": 86,
   "id": "75a3d769",
   "metadata": {},
   "outputs": [
    {
     "data": {
      "text/plain": [
       "array([0], dtype=int64)"
      ]
     },
     "execution_count": 86,
     "metadata": {},
     "output_type": "execute_result"
    }
   ],
   "source": [
    "# Has any issues occured during start up session ? \n",
    "# No, there was no issues reported during start up\n",
    "\n",
    "df[\"startupError\"].unique()"
   ]
  },
  {
   "cell_type": "code",
   "execution_count": 87,
   "id": "bd14328c",
   "metadata": {},
   "outputs": [
    {
     "data": {
      "text/plain": [
       "array([1], dtype=int64)"
      ]
     },
     "execution_count": 87,
     "metadata": {},
     "output_type": "execute_result"
    }
   ],
   "source": [
    "# Has Video Play Failure (VPF) always occured ? \n",
    "# Yes, every single user experienced issues\n",
    "\n",
    "df[\"vpf\"].unique()"
   ]
  },
  {
   "cell_type": "code",
   "execution_count": 88,
   "id": "b86f59ad",
   "metadata": {},
   "outputs": [
    {
     "data": {
      "text/plain": [
       "array(['external'], dtype=object)"
      ]
     },
     "execution_count": 88,
     "metadata": {},
     "output_type": "execute_result"
    }
   ],
   "source": [
    "# What kind of network viewers used during transmission ? \n",
    "# All records indicates external network only\n",
    "\n",
    "df[\"networkType\"].unique()"
   ]
  },
  {
   "cell_type": "code",
   "execution_count": 89,
   "id": "10b5d12c",
   "metadata": {},
   "outputs": [],
   "source": [
    "# Some of the columns wont have impact on analysis, hence Im droping them to reduce disk space\n",
    "\n",
    "columns_to_drop =[\"proposition\", \"viewerID\", \"asn\", \"startupError\", \"vpf\", \"networkType\", \n",
    "                  \"session_device_brand\", \"session_appversion\", \"session_browser_version\",\n",
    "                  \"session_source\", \"session_device_model\", \"session_is_live\", \"session_out_of_home\", \n",
    "                  \"session_channel_id\", \"session_content_type\",\"session_episode\", \n",
    "                  \"session_goal_id\", \"session_viewer_id\", \"session_device_marketing_name\"] \n",
    "\n",
    "df.drop(columns=columns_to_drop, inplace = True)"
   ]
  },
  {
   "cell_type": "code",
   "execution_count": 90,
   "id": "cac03f56",
   "metadata": {},
   "outputs": [
    {
     "data": {
      "text/plain": [
       "(38733, 22)"
      ]
     },
     "execution_count": 90,
     "metadata": {},
     "output_type": "execute_result"
    }
   ],
   "source": [
    "# Dataset has been compacted to 22 columns\n",
    "\n",
    "df.shape"
   ]
  },
  {
   "cell_type": "code",
   "execution_count": 91,
   "id": "72edc2a0",
   "metadata": {},
   "outputs": [
    {
     "data": {
      "text/plain": [
       "['day',\n",
       " 'asset',\n",
       " 'deviceOS',\n",
       " 'country',\n",
       " 'state',\n",
       " 'city',\n",
       " 'isp',\n",
       " 'startTime',\n",
       " 'startupTimeMS',\n",
       " 'playingTimeMS',\n",
       " 'interrupts',\n",
       " 'cdn',\n",
       " 'browser',\n",
       " 'vpfErrorList',\n",
       " 'endTime',\n",
       " 'session_device_manufacturer',\n",
       " 'session_device_conn',\n",
       " 'session_hardware_type',\n",
       " 'session_channel_name',\n",
       " 'session_pt_os',\n",
       " 'session_pt_os_ver',\n",
       " 'session_player_name']"
      ]
     },
     "execution_count": 91,
     "metadata": {},
     "output_type": "execute_result"
    }
   ],
   "source": [
    "df.columns.to_list()"
   ]
  },
  {
   "cell_type": "code",
   "execution_count": 92,
   "id": "80360855",
   "metadata": {},
   "outputs": [],
   "source": [
    "# converting complex startTime column into time only\n",
    "\n",
    "df[\"startTime\"] = pd.to_datetime(df[\"startTime\"])\n",
    "\n",
    "\n",
    "df[\"convertedStartTime\"] = df[\"startTime\"].dt.strftime(\"%H:%M:%S\")"
   ]
  },
  {
   "cell_type": "code",
   "execution_count": 93,
   "id": "fd4845c3",
   "metadata": {},
   "outputs": [
    {
     "data": {
      "text/plain": [
       "0        20:20:00\n",
       "1        20:20:00\n",
       "2        20:20:00\n",
       "3        20:20:00\n",
       "4        20:20:00\n",
       "           ...   \n",
       "38728    20:40:00\n",
       "38729    20:40:00\n",
       "38730    20:40:00\n",
       "38731    20:40:00\n",
       "38732    20:40:00\n",
       "Name: convertedStartTime, Length: 38733, dtype: object"
      ]
     },
     "execution_count": 93,
     "metadata": {},
     "output_type": "execute_result"
    }
   ],
   "source": [
    "df[\"convertedStartTime\"]"
   ]
  },
  {
   "cell_type": "code",
   "execution_count": 94,
   "id": "636a4d67",
   "metadata": {},
   "outputs": [],
   "source": [
    "# converting complex endTime column into time type\n",
    "\n",
    "df[\"endTime\"]= pd.to_datetime(df[\"endTime\"])\n",
    "\n",
    "df[\"convertedEndTime\"] = df[\"endTime\"].dt.strftime(\"%H:%M:%S\")\n"
   ]
  },
  {
   "cell_type": "code",
   "execution_count": 95,
   "id": "762388ad",
   "metadata": {},
   "outputs": [
    {
     "data": {
      "text/plain": [
       "0        21:24:03\n",
       "1        20:29:43\n",
       "2        20:30:31\n",
       "3        20:20:11\n",
       "4        20:38:01\n",
       "           ...   \n",
       "38728    21:12:01\n",
       "38729    20:40:50\n",
       "38730    20:40:50\n",
       "38731    20:40:50\n",
       "38732    20:40:50\n",
       "Name: convertedEndTime, Length: 38733, dtype: object"
      ]
     },
     "execution_count": 95,
     "metadata": {},
     "output_type": "execute_result"
    }
   ],
   "source": [
    "df[\"convertedEndTime\"]"
   ]
  },
  {
   "cell_type": "code",
   "execution_count": 96,
   "id": "40434510",
   "metadata": {},
   "outputs": [
    {
     "data": {
      "text/html": [
       "<div>\n",
       "<style scoped>\n",
       "    .dataframe tbody tr th:only-of-type {\n",
       "        vertical-align: middle;\n",
       "    }\n",
       "\n",
       "    .dataframe tbody tr th {\n",
       "        vertical-align: top;\n",
       "    }\n",
       "\n",
       "    .dataframe thead th {\n",
       "        text-align: right;\n",
       "    }\n",
       "</style>\n",
       "<table border=\"1\" class=\"dataframe\">\n",
       "  <thead>\n",
       "    <tr style=\"text-align: right;\">\n",
       "      <th></th>\n",
       "      <th>day</th>\n",
       "      <th>asset</th>\n",
       "      <th>deviceOS</th>\n",
       "      <th>country</th>\n",
       "      <th>state</th>\n",
       "      <th>city</th>\n",
       "      <th>isp</th>\n",
       "      <th>startTime</th>\n",
       "      <th>startupTimeMS</th>\n",
       "      <th>playingTimeMS</th>\n",
       "      <th>...</th>\n",
       "      <th>endTime</th>\n",
       "      <th>session_device_manufacturer</th>\n",
       "      <th>session_device_conn</th>\n",
       "      <th>session_hardware_type</th>\n",
       "      <th>session_channel_name</th>\n",
       "      <th>session_pt_os</th>\n",
       "      <th>session_pt_os_ver</th>\n",
       "      <th>session_player_name</th>\n",
       "      <th>convertedStartTime</th>\n",
       "      <th>convertedEndTime</th>\n",
       "    </tr>\n",
       "  </thead>\n",
       "  <tbody>\n",
       "    <tr>\n",
       "      <th>0</th>\n",
       "      <td>2020-08-19</td>\n",
       "      <td>Live-129-Sky Sport 1 HD</td>\n",
       "      <td>iOS</td>\n",
       "      <td>austria</td>\n",
       "      <td>niederoesterreich</td>\n",
       "      <td>maria enzersdorf</td>\n",
       "      <td>ASN: KABSI-AS, AT</td>\n",
       "      <td>2020-08-19 20:20:00+00:00</td>\n",
       "      <td>2258</td>\n",
       "      <td>3843094</td>\n",
       "      <td>...</td>\n",
       "      <td>2020-08-19 21:24:03.094000+00:00</td>\n",
       "      <td>Apple</td>\n",
       "      <td>WiFi</td>\n",
       "      <td>Mobile Phone</td>\n",
       "      <td>Sky Sport 1 HD</td>\n",
       "      <td>iOS</td>\n",
       "      <td>iOS 13.6</td>\n",
       "      <td>skygo-de-ios</td>\n",
       "      <td>20:20:00</td>\n",
       "      <td>21:24:03</td>\n",
       "    </tr>\n",
       "    <tr>\n",
       "      <th>1</th>\n",
       "      <td>2020-08-19</td>\n",
       "      <td>Live-129-Sky Sport 1 HD</td>\n",
       "      <td>OS X</td>\n",
       "      <td>germany</td>\n",
       "      <td>hamburg</td>\n",
       "      <td>hamburg</td>\n",
       "      <td>Vodafone</td>\n",
       "      <td>2020-08-19 20:20:00+00:00</td>\n",
       "      <td>6406</td>\n",
       "      <td>583780</td>\n",
       "      <td>...</td>\n",
       "      <td>2020-08-19 20:29:43.780000+00:00</td>\n",
       "      <td>Apple</td>\n",
       "      <td>Unknown</td>\n",
       "      <td>Desktop</td>\n",
       "      <td>Sky Sport 1 HD</td>\n",
       "      <td>macOS</td>\n",
       "      <td>OS X 10.15.6</td>\n",
       "      <td>skygo-de-desktop</td>\n",
       "      <td>20:20:00</td>\n",
       "      <td>20:29:43</td>\n",
       "    </tr>\n",
       "    <tr>\n",
       "      <th>2</th>\n",
       "      <td>2020-08-19</td>\n",
       "      <td>Live-129-Sky Sport 1 HD</td>\n",
       "      <td>Tizen</td>\n",
       "      <td>germany</td>\n",
       "      <td>hamburg</td>\n",
       "      <td>hamburg</td>\n",
       "      <td>Kable Deutschland</td>\n",
       "      <td>2020-08-19 20:20:00+00:00</td>\n",
       "      <td>1767</td>\n",
       "      <td>618627</td>\n",
       "      <td>...</td>\n",
       "      <td>2020-08-19 20:30:31.329000+00:00</td>\n",
       "      <td>Samsung</td>\n",
       "      <td>Unknown</td>\n",
       "      <td>TV</td>\n",
       "      <td>Sky Sport 1 HD</td>\n",
       "      <td>Tizen</td>\n",
       "      <td>Tizen Platform: 5.0 | API: 3.0 | Web API: 3.0</td>\n",
       "      <td>skyq-de-samsungtv</td>\n",
       "      <td>20:20:00</td>\n",
       "      <td>20:30:31</td>\n",
       "    </tr>\n",
       "  </tbody>\n",
       "</table>\n",
       "<p>3 rows × 24 columns</p>\n",
       "</div>"
      ],
      "text/plain": [
       "         day                    asset deviceOS  country              state  \\\n",
       "0 2020-08-19  Live-129-Sky Sport 1 HD      iOS  austria  niederoesterreich   \n",
       "1 2020-08-19  Live-129-Sky Sport 1 HD     OS X  germany            hamburg   \n",
       "2 2020-08-19  Live-129-Sky Sport 1 HD    Tizen  germany            hamburg   \n",
       "\n",
       "               city                isp                 startTime  \\\n",
       "0  maria enzersdorf  ASN: KABSI-AS, AT 2020-08-19 20:20:00+00:00   \n",
       "1           hamburg           Vodafone 2020-08-19 20:20:00+00:00   \n",
       "2           hamburg  Kable Deutschland 2020-08-19 20:20:00+00:00   \n",
       "\n",
       "   startupTimeMS  playingTimeMS  ...                          endTime  \\\n",
       "0           2258        3843094  ... 2020-08-19 21:24:03.094000+00:00   \n",
       "1           6406         583780  ... 2020-08-19 20:29:43.780000+00:00   \n",
       "2           1767         618627  ... 2020-08-19 20:30:31.329000+00:00   \n",
       "\n",
       "  session_device_manufacturer session_device_conn session_hardware_type  \\\n",
       "0                       Apple                WiFi          Mobile Phone   \n",
       "1                       Apple             Unknown               Desktop   \n",
       "2                     Samsung             Unknown                    TV   \n",
       "\n",
       "  session_channel_name session_pt_os  \\\n",
       "0       Sky Sport 1 HD           iOS   \n",
       "1       Sky Sport 1 HD         macOS   \n",
       "2       Sky Sport 1 HD         Tizen   \n",
       "\n",
       "                               session_pt_os_ver session_player_name  \\\n",
       "0                                       iOS 13.6        skygo-de-ios   \n",
       "1                                   OS X 10.15.6    skygo-de-desktop   \n",
       "2  Tizen Platform: 5.0 | API: 3.0 | Web API: 3.0   skyq-de-samsungtv   \n",
       "\n",
       "  convertedStartTime convertedEndTime  \n",
       "0           20:20:00         21:24:03  \n",
       "1           20:20:00         20:29:43  \n",
       "2           20:20:00         20:30:31  \n",
       "\n",
       "[3 rows x 24 columns]"
      ]
     },
     "execution_count": 96,
     "metadata": {},
     "output_type": "execute_result"
    }
   ],
   "source": [
    "df.head(3)"
   ]
  },
  {
   "cell_type": "code",
   "execution_count": 97,
   "id": "3ba0d54a",
   "metadata": {},
   "outputs": [],
   "source": [
    "# Convert startTime and endTime columns to datetime objects as I was unable to save new excel file\n",
    "\n",
    "df[\"startTime\"] = pd.to_datetime(df[\"startTime\"])\n",
    "df[\"endTime\"] = pd.to_datetime(df[\"endTime\"])\n"
   ]
  },
  {
   "cell_type": "code",
   "execution_count": 98,
   "id": "d29fe3e5",
   "metadata": {},
   "outputs": [],
   "source": [
    "# Remove timezones from startTime and endTime columns \n",
    "\n",
    "df['startTime'] = df['startTime'].dt.tz_localize(None)\n",
    "df['endTime'] = df['endTime'].dt.tz_localize(None)"
   ]
  },
  {
   "cell_type": "code",
   "execution_count": 99,
   "id": "b9aa61ff",
   "metadata": {},
   "outputs": [],
   "source": [
    "cleaned_observability = pd.DataFrame(df)\n",
    "\n",
    "cleaned_observability.to_excel(\"C:/Users/katar_223g2eq/OneDrive/Katarina_Data_Science/Data Science/Github/Observability/cleaned_observability.xlsx\", index = False)"
   ]
  },
  {
   "cell_type": "code",
   "execution_count": null,
   "id": "fce568b8",
   "metadata": {},
   "outputs": [],
   "source": []
  }
 ],
 "metadata": {
  "kernelspec": {
   "display_name": "Python 3 (ipykernel)",
   "language": "python",
   "name": "python3"
  },
  "language_info": {
   "codemirror_mode": {
    "name": "ipython",
    "version": 3
   },
   "file_extension": ".py",
   "mimetype": "text/x-python",
   "name": "python",
   "nbconvert_exporter": "python",
   "pygments_lexer": "ipython3",
   "version": "3.10.11"
  }
 },
 "nbformat": 4,
 "nbformat_minor": 5
}
